{
 "cells": [
  {
   "cell_type": "markdown",
   "id": "7f5580de-ac81-4575-af6e-1cebaeb988cc",
   "metadata": {},
   "source": [
    "# IMPORTS:"
   ]
  },
  {
   "cell_type": "code",
   "execution_count": 428,
   "id": "221f7fb3-e6cd-47e9-8a64-43ba95b2864d",
   "metadata": {},
   "outputs": [],
   "source": [
    "import torch.nn as nn\n",
    "import torch.nn.functional as F\n",
    "import torch.optim as optim\n",
    "import numpy as np\n",
    "from importlib import reload \n",
    "from art.attacks.evasion import AutoProjectedGradientDescent,ProjectedGradientDescent,AdversarialPatch,BasicIterativeMethod,CarliniL2Method,CarliniLInfMethod\n",
    "from art.estimators.classification import PyTorchClassifier\n",
    "from art.utils import load_mnist\n",
    "from sklearn.tree import DecisionTreeClassifier\n",
    "from multi_MPD import UncertaintyTrainer\n",
    "from sklearn.model_selection import train_test_split\n",
    "from sklearn.metrics import f1_score,precision_score,recall_score, confusion_matrix, classification_report, ConfusionMatrixDisplay\n",
    "from sklearn.metrics import accuracy_score\n",
    "from joblib import dump, load\n",
    "import scipy\n",
    "import pandas as pd\n",
    "%matplotlib inline\n",
    "import matplotlib.pyplot as plt\n",
    "import seaborn as sns\n",
    "sns.set()"
   ]
  },
  {
   "cell_type": "markdown",
   "id": "d8de35c2-a6b7-46bc-aa60-c91425e6e522",
   "metadata": {},
   "source": [
    "# Neural Network Model:"
   ]
  },
  {
   "cell_type": "code",
   "execution_count": 429,
   "id": "1b195e54-1b31-48b7-9c6c-58cf8a0849e4",
   "metadata": {},
   "outputs": [],
   "source": [
    "# Step 0: Define the neural network model\n",
    "\n",
    "class Net(nn.Module):\n",
    "    def __init__(self):\n",
    "        super(Net, self).__init__()\n",
    "        self.conv_1 = nn.Conv2d(in_channels=1, out_channels=4, kernel_size=5, stride=1)\n",
    "        self.conv_2 = nn.Conv2d(in_channels=4, out_channels=10, kernel_size=5, stride=1)\n",
    "        self.fc_1 = nn.Linear(in_features=4 * 4 * 10, out_features=100)\n",
    "        self.fc_2 = nn.Linear(in_features=100, out_features=10)\n",
    "\n",
    "    def forward(self, x):\n",
    "        x = F.relu(self.conv_1(x))\n",
    "        x = F.max_pool2d(x, 2, 2)\n",
    "        x = F.relu(self.conv_2(x))\n",
    "        x = F.max_pool2d(x, 2, 2)\n",
    "        x = x.view(-1, 4 * 4 * 10)\n",
    "        x = F.relu(self.fc_1(x))\n",
    "        x = self.fc_2(x)\n",
    "        return x"
   ]
  },
  {
   "cell_type": "markdown",
   "id": "5641b625-8fa7-4642-9122-bb37283c6c80",
   "metadata": {},
   "source": [
    "# MNIST DATASET:"
   ]
  },
  {
   "cell_type": "code",
   "execution_count": 430,
   "id": "d39dd3ac-49b8-43af-96d5-237098a32fb1",
   "metadata": {},
   "outputs": [],
   "source": [
    "# Step 1: Load the MNIST dataset\n",
    "\n",
    "(x_train, y_train), (x_test, y_test), min_pixel_value, max_pixel_value = load_mnist()\n",
    "\n",
    "# Step 1a: Swap axes to PyTorch's NCHW format\n",
    "\n",
    "x_train = np.transpose(x_train, (0, 3, 1, 2)).astype(np.float32)\n",
    "x_test = np.transpose(x_test, (0, 3, 1, 2)).astype(np.float32)"
   ]
  },
  {
   "cell_type": "markdown",
   "id": "b6380a58-717b-486b-8e49-15cf3659c656",
   "metadata": {},
   "source": [
    "# Model Creation:"
   ]
  },
  {
   "cell_type": "code",
   "execution_count": 431,
   "id": "7b69b47f-eed4-49e0-b6f9-3965eb96c5be",
   "metadata": {},
   "outputs": [],
   "source": [
    "# Step 2: Create the model\n",
    "\n",
    "model = Net()\n",
    "\n",
    "# Step 2a: Define the loss function and the optimizer\n",
    "\n",
    "criterion = nn.CrossEntropyLoss()\n",
    "optimizer = optim.Adam(model.parameters(), lr=0.01)"
   ]
  },
  {
   "cell_type": "markdown",
   "id": "96744b84-4858-4ba2-9c98-0b0b534545f5",
   "metadata": {},
   "source": [
    "# Creating the ART Classifier:"
   ]
  },
  {
   "cell_type": "code",
   "execution_count": 432,
   "id": "287bea41-7d9f-400a-baf9-9d5385c81fdd",
   "metadata": {},
   "outputs": [],
   "source": [
    "# Step 3: Create the ART classifier\n",
    "\n",
    "classifier = PyTorchClassifier(\n",
    "    model=model,\n",
    "    clip_values=(min_pixel_value, max_pixel_value),\n",
    "    loss=criterion,\n",
    "    optimizer=optimizer,\n",
    "    input_shape=(1, 28, 28),\n",
    "    nb_classes=10,\n",
    ")"
   ]
  },
  {
   "cell_type": "markdown",
   "id": "21a00ba4-2f32-4f04-b96d-d94570dc25d6",
   "metadata": {},
   "source": [
    "# Training the Classifier:"
   ]
  },
  {
   "cell_type": "code",
   "execution_count": 433,
   "id": "2c3d37ec-299d-4d53-9237-8a8406818cd7",
   "metadata": {},
   "outputs": [],
   "source": [
    "# Step 4: Train the ART classifier\n",
    "\n",
    "#classifier.fit(x_train, y_train, batch_size=64, nb_epochs=4)\n"
   ]
  },
  {
   "cell_type": "code",
   "execution_count": 434,
   "id": "b7f2fa67-a03d-4883-819d-68a4325eb0bf",
   "metadata": {},
   "outputs": [],
   "source": [
    "#dump(classifier,'classifier.joblib')"
   ]
  },
  {
   "cell_type": "markdown",
   "id": "238ba586-0b95-47d8-9fa8-829270d3732f",
   "metadata": {},
   "source": [
    "### Since the model takes time to run from start, we store the model after it has been trained and then load it so that we dont need to train it for every run. "
   ]
  },
  {
   "cell_type": "code",
   "execution_count": 435,
   "id": "fe52b47b-3d56-430a-8d22-3485c7bebfe5",
   "metadata": {},
   "outputs": [],
   "source": [
    "classifier=load('classifier.joblib')"
   ]
  },
  {
   "cell_type": "markdown",
   "id": "ce1aa666-cbad-4936-bef1-46f416bc9380",
   "metadata": {},
   "source": [
    "# Evaluating the Model's Performance:"
   ]
  },
  {
   "cell_type": "code",
   "execution_count": 436,
   "id": "055e4b42-be40-480d-a75f-00cb2cac0bbf",
   "metadata": {},
   "outputs": [
    {
     "name": "stdout",
     "output_type": "stream",
     "text": [
      "Accuracy on benign test examples: 98.4%\n"
     ]
    }
   ],
   "source": [
    "# Step 5: Evaluate the ART classifier on benign test examples\n",
    "\n",
    "predictions = classifier.predict(x_test)\n",
    "accuracy = np.sum(np.argmax(predictions, axis=1) == np.argmax(y_test, axis=1)) / len(y_test)\n",
    "print(\"Accuracy on benign test examples: {}%\".format(accuracy * 100))"
   ]
  },
  {
   "cell_type": "code",
   "execution_count": null,
   "id": "5595f66f-193d-4790-ba7c-45bf51b8fdc0",
   "metadata": {},
   "outputs": [],
   "source": []
  },
  {
   "cell_type": "markdown",
   "id": "3114aef1-4008-440a-a19d-ebe06ac44b92",
   "metadata": {},
   "source": [
    "# Generating AEs"
   ]
  },
  {
   "cell_type": "markdown",
   "id": "ec7d5e14-4ca4-4d56-83dd-09ff99a09070",
   "metadata": {},
   "source": [
    "#### NOTE: All the attacks were generated and stored seperately since it takes lot of time for generating the samples. We will be loading the samples directly for faster run."
   ]
  },
  {
   "cell_type": "code",
   "execution_count": 437,
   "id": "79b46e82-e0ad-4b6e-9843-e9c012b92a0a",
   "metadata": {},
   "outputs": [],
   "source": [
    "class AEGenerator:\n",
    "    def __init__(self, attack_name, x_test, y_test):\n",
    "\n",
    "        self.attack_name = attack_name\n",
    "        self.x_test = x_test\n",
    "        self.y_test = y_test\n",
    "\n",
    "        if attack_name == 'bim':\n",
    "            self.attack = BasicIterativeMethod(classifier)\n",
    "        elif attack_name == 'pgdlinf':\n",
    "            self.attack = ProjectedGradientDescent(estimator=classifier,norm='inf')\n",
    "        elif attack_name == 'pgdl1':\n",
    "            self.attack = ProjectedGradientDescent(estimator=classifier,norm=1)\n",
    "        elif attack_name == 'pgdl2':\n",
    "            self.attack = ProjectedGradientDescent(estimator=classifier,norm=2,)\n",
    "        elif attack_name == 'apgdlinf':\n",
    "            self.attack = AutoProjectedGradientDescent(classifier, norm=np.inf)\n",
    "        elif attack_name == 'apgdl1':\n",
    "            self.attack = AutoProjectedGradientDescent(classifier, norm=1)\n",
    "        elif attack_name == 'apgdl2':\n",
    "            self.attack = AutoProjectedGradientDescent(classifier, norm=2)\n",
    "        elif attack_name == 'cwl2':\n",
    "            self.attack = CarliniL2Method(classifier,max_iter=50)\n",
    "        elif attack_name == 'cwlinf':\n",
    "            self.attack = CarliniLInfMethod(classifier,max_iter=50)\n",
    "\n",
    "        # Generate adversarial examples\n",
    "        self.x_test_adv = self.attack.generate(self.x_test)\n",
    "\n",
    "        # Evaluate the ART classifier on the adversarial test examples\n",
    "        self.adv_preds = classifier.predict(self.x_test_adv)\n",
    "\n",
    "        # Getting the individual predictions and their indices\n",
    "        self.ind_pred = np.argmax(self.adv_preds, axis=1) == np.argmax(self.y_test, axis=1)\n",
    "        self.false_indices = np.where(~self.ind_pred)[0].tolist()\n",
    "\n",
    "        # Calculating the accuracy\n",
    "        self.acc_adv = np.sum(np.argmax(self.adv_preds, axis=1) == np.argmax(self.y_test, axis=1)) / len(self.y_test)\n",
    "        print(\"Accuracy on {} adversarial test examples: {}%\".format(self.attack_name.upper(), self.acc_adv * 100))\n",
    "        print()\n",
    "        print(f\"The number of {self.attack_name.upper()} samples that successfully evaded the model are - {len(self.false_indices)}\")"
   ]
  },
  {
   "cell_type": "markdown",
   "id": "ae017fce-56d5-49e2-9b2a-5b91e2b2ac3b",
   "metadata": {},
   "source": [
    "# BIM ATTACK:"
   ]
  },
  {
   "cell_type": "code",
   "execution_count": 438,
   "id": "fa713472-2931-4121-9edc-112544bde1f3",
   "metadata": {},
   "outputs": [],
   "source": [
    "# bim_attack = AEGenerator('bim',x_test,y_test)"
   ]
  },
  {
   "cell_type": "code",
   "execution_count": 439,
   "id": "59379f6d-52eb-43c3-9f59-88a53528a180",
   "metadata": {},
   "outputs": [],
   "source": [
    "#dump(bim_attack,'bim_attack.joblib')"
   ]
  },
  {
   "cell_type": "code",
   "execution_count": 440,
   "id": "b16956d4-b188-407b-96e7-4c58591568dc",
   "metadata": {},
   "outputs": [],
   "source": [
    "#Loading the samples \n",
    "bim_attack=load('AttackSamples/bim_attack.joblib')"
   ]
  },
  {
   "cell_type": "code",
   "execution_count": 441,
   "id": "d62c7899-a11b-474f-b94e-0db2427f42ef",
   "metadata": {},
   "outputs": [
    {
     "name": "stdout",
     "output_type": "stream",
     "text": [
      "Accuracy on BIM adversarial test examples: 1.17%\n",
      "\n",
      "The number of BIM samples that successfully evaded the model are - 9883\n"
     ]
    }
   ],
   "source": [
    "print(\"Accuracy on {} adversarial test examples: {}%\".format(bim_attack.attack_name.upper(), bim_attack.acc_adv * 100))\n",
    "print()\n",
    "print(f\"The number of {bim_attack.attack_name.upper()} samples that successfully evaded the model are - {len(bim_attack.false_indices)}\")"
   ]
  },
  {
   "cell_type": "markdown",
   "id": "59e81bae-11fb-4ba0-b80a-096865667d1e",
   "metadata": {},
   "source": [
    "# PGD ATTACK:"
   ]
  },
  {
   "cell_type": "markdown",
   "id": "10632db8-7c65-4789-84dc-136166a7bd17",
   "metadata": {},
   "source": [
    "### PGD L INFINITY "
   ]
  },
  {
   "cell_type": "code",
   "execution_count": 442,
   "id": "e492b614-d8a7-4f27-ba83-0004d27f0fe6",
   "metadata": {},
   "outputs": [],
   "source": [
    "#pgdlinf_attack = AEGenerator('pgdlinf',x_test,y_test)"
   ]
  },
  {
   "cell_type": "code",
   "execution_count": 443,
   "id": "5f1cad18-39c8-4519-b4e6-9021e3af14f3",
   "metadata": {},
   "outputs": [],
   "source": [
    "#dump(pgdlinf_attack,'AttackSamples/pgdlinf_attack.joblib')"
   ]
  },
  {
   "cell_type": "code",
   "execution_count": 444,
   "id": "91001dda-ecc4-404c-bc33-0e3795e4e46f",
   "metadata": {},
   "outputs": [],
   "source": [
    "#Loading the samples \n",
    "pgdlinf_attack=load('AttackSamples/pgdlinf_attack.joblib')"
   ]
  },
  {
   "cell_type": "code",
   "execution_count": 445,
   "id": "7594bfc0-5c0d-4e62-ac0d-f11be8ea831e",
   "metadata": {},
   "outputs": [
    {
     "name": "stdout",
     "output_type": "stream",
     "text": [
      "Accuracy on PGDLINF adversarial test examples: 1.17%\n",
      "\n",
      "The number of PGDLINF samples that successfully evaded the model are - 9883\n"
     ]
    }
   ],
   "source": [
    "print(\"Accuracy on {} adversarial test examples: {}%\".format(pgdlinf_attack.attack_name.upper(), pgdlinf_attack.acc_adv * 100))\n",
    "print()\n",
    "print(f\"The number of {pgdlinf_attack.attack_name.upper()} samples that successfully evaded the model are - {len(pgdlinf_attack.false_indices)}\")"
   ]
  },
  {
   "cell_type": "markdown",
   "id": "14c7b236-1edd-47eb-8480-d06dfb9b91c6",
   "metadata": {},
   "source": [
    "### PGD L1"
   ]
  },
  {
   "cell_type": "code",
   "execution_count": 446,
   "id": "4c29a025-338c-4def-89b1-b56000418e6e",
   "metadata": {},
   "outputs": [],
   "source": [
    "#pgdl1_attack = AEGenerator('pgdl1',x_test,y_test)"
   ]
  },
  {
   "cell_type": "code",
   "execution_count": 447,
   "id": "4273de51-06d7-4ba6-b014-0197bc2db1b4",
   "metadata": {},
   "outputs": [],
   "source": [
    "#dump(pgdl1_attack,'pgdl1_attack.joblib')"
   ]
  },
  {
   "cell_type": "code",
   "execution_count": 448,
   "id": "fdf053be-4d59-425d-80e2-9a0d3576dd1d",
   "metadata": {},
   "outputs": [],
   "source": [
    "#Loading the samples \n",
    "pgdl1_attack=load('AttackSamples/pgdl1_attack.joblib')"
   ]
  },
  {
   "cell_type": "code",
   "execution_count": 449,
   "id": "6bc293c4-4357-4fdf-bc92-314bc454e4d0",
   "metadata": {},
   "outputs": [
    {
     "name": "stdout",
     "output_type": "stream",
     "text": [
      "Accuracy on PGDL1 adversarial test examples: 98.41%\n",
      "\n",
      "The number of PGDL1 samples that successfully evaded the model are - 159\n"
     ]
    }
   ],
   "source": [
    "print(\"Accuracy on {} adversarial test examples: {}%\".format(pgdl1_attack.attack_name.upper(), pgdl1_attack.acc_adv * 100))\n",
    "print()\n",
    "print(f\"The number of {pgdl1_attack.attack_name.upper()} samples that successfully evaded the model are - {len(pgdl1_attack.false_indices)}\")"
   ]
  },
  {
   "cell_type": "markdown",
   "id": "3cae6fae-b39d-49df-b29e-d927c9437176",
   "metadata": {},
   "source": [
    "### PGD L2"
   ]
  },
  {
   "cell_type": "code",
   "execution_count": 450,
   "id": "63d22776-07b8-498b-9440-3cc75d6c9722",
   "metadata": {},
   "outputs": [],
   "source": [
    "#pgdl2_attack = AEGenerator('pgdl2',x_test,y_test)"
   ]
  },
  {
   "cell_type": "code",
   "execution_count": 451,
   "id": "ded90bc5-c240-47dc-a9c8-7e1e20d9dddc",
   "metadata": {},
   "outputs": [],
   "source": [
    "#dump(pgdl2_attack,'pgdl2_attack.joblib')"
   ]
  },
  {
   "cell_type": "code",
   "execution_count": 452,
   "id": "32646375-a35e-472d-9d6f-bb1a6d102231",
   "metadata": {},
   "outputs": [],
   "source": [
    "#Loading the samples \n",
    "pgdl2_attack=load('AttackSamples/pgdl2_attack.joblib')"
   ]
  },
  {
   "cell_type": "code",
   "execution_count": 453,
   "id": "4ada195b-d205-4d75-9cff-d9bc4927d18b",
   "metadata": {},
   "outputs": [
    {
     "name": "stdout",
     "output_type": "stream",
     "text": [
      "Accuracy on PGDL2 adversarial test examples: 92.89%\n",
      "\n",
      "The number of PGDL2 samples that successfully evaded the model are - 711\n"
     ]
    }
   ],
   "source": [
    "print(\"Accuracy on {} adversarial test examples: {}%\".format(pgdl2_attack.attack_name.upper(), pgdl2_attack.acc_adv * 100))\n",
    "print()\n",
    "print(f\"The number of {pgdl2_attack.attack_name.upper()} samples that successfully evaded the model are - {len(pgdl2_attack.false_indices)}\")"
   ]
  },
  {
   "cell_type": "markdown",
   "id": "4c8f578c-3d08-4946-b318-69148dbb4610",
   "metadata": {},
   "source": [
    "# AUTO PGD ATTACK "
   ]
  },
  {
   "cell_type": "markdown",
   "id": "d6002f7e-1990-43bc-8366-8572201cf368",
   "metadata": {},
   "source": [
    "### AUTOPGD L INFINITY"
   ]
  },
  {
   "cell_type": "code",
   "execution_count": 454,
   "id": "fd0d22b3-6993-4a45-9cde-4c5f87e8e505",
   "metadata": {},
   "outputs": [],
   "source": [
    "#apgdlinf_attack = AEGenerator('apgdlinf',x_test,y_test)"
   ]
  },
  {
   "cell_type": "code",
   "execution_count": 455,
   "id": "5d1a30bf-5a20-4157-bf02-e95ba628ae62",
   "metadata": {},
   "outputs": [],
   "source": [
    "#dump(apgdlinf_attack,'apgdlinf_attack.joblib')"
   ]
  },
  {
   "cell_type": "code",
   "execution_count": 456,
   "id": "19c15862-0470-4bdb-8c31-f55bcfa4ac30",
   "metadata": {},
   "outputs": [],
   "source": [
    "#Loading the samples \n",
    "apgdlinf_attack=load('AttackSamples/apgdlinf_attack.joblib')"
   ]
  },
  {
   "cell_type": "code",
   "execution_count": 457,
   "id": "75d840e1-be3b-4d43-a156-c63d0b38e3b7",
   "metadata": {},
   "outputs": [
    {
     "name": "stdout",
     "output_type": "stream",
     "text": [
      "Accuracy on APGDLINF adversarial test examples: 1.0%\n",
      "\n",
      "The number of APGDLINF samples that successfully evaded the model are - 9900\n"
     ]
    }
   ],
   "source": [
    "print(\"Accuracy on {} adversarial test examples: {}%\".format(apgdlinf_attack.attack_name.upper(), apgdlinf_attack.acc_adv * 100))\n",
    "print()\n",
    "print(f\"The number of {apgdlinf_attack.attack_name.upper()} samples that successfully evaded the model are - {len(apgdlinf_attack.false_indices)}\")"
   ]
  },
  {
   "cell_type": "markdown",
   "id": "7cd8af19-2776-4754-92a3-f53392215988",
   "metadata": {},
   "source": [
    "### AUTOPGD L1"
   ]
  },
  {
   "cell_type": "code",
   "execution_count": 458,
   "id": "a6466ae9-31cd-4154-ba67-093ee849ee1d",
   "metadata": {},
   "outputs": [],
   "source": [
    "#apgdl1_attack = AEGenerator('apgdl1',x_test,y_test)"
   ]
  },
  {
   "cell_type": "code",
   "execution_count": 459,
   "id": "afb0935a-d351-4bc9-8c6f-ccbac7cc152b",
   "metadata": {},
   "outputs": [],
   "source": [
    "#dump(apgdl1_attack,'apgdl1_attack.joblib')"
   ]
  },
  {
   "cell_type": "code",
   "execution_count": 460,
   "id": "13523a01-1afa-411d-b09a-17b18050e63b",
   "metadata": {},
   "outputs": [],
   "source": [
    "#Loading the samples \n",
    "apgdl1_attack=load('AttackSamples/apgdl1_attack.joblib')"
   ]
  },
  {
   "cell_type": "code",
   "execution_count": 461,
   "id": "d95f8418-eaef-4768-a27e-88ba49d63fb8",
   "metadata": {},
   "outputs": [
    {
     "name": "stdout",
     "output_type": "stream",
     "text": [
      "Accuracy on APGDL1 adversarial test examples: 98.4%\n",
      "\n",
      "The number of APGDL1 samples that successfully evaded the model are - 160\n"
     ]
    }
   ],
   "source": [
    "print(\"Accuracy on {} adversarial test examples: {}%\".format(apgdl1_attack.attack_name.upper(), apgdl1_attack.acc_adv * 100))\n",
    "print()\n",
    "print(f\"The number of {apgdl1_attack.attack_name.upper()} samples that successfully evaded the model are - {len(apgdl1_attack.false_indices)}\")"
   ]
  },
  {
   "cell_type": "markdown",
   "id": "b4c1a430-537a-49ab-879c-71e165203fce",
   "metadata": {},
   "source": [
    "### AUTOPGD L2"
   ]
  },
  {
   "cell_type": "code",
   "execution_count": 462,
   "id": "6b806e60-d33c-4a7a-a43e-ece56f6d314a",
   "metadata": {},
   "outputs": [],
   "source": [
    "#apgdl2_attack = AEGenerator('apgdl2',x_test,y_test)"
   ]
  },
  {
   "cell_type": "code",
   "execution_count": 463,
   "id": "d236061e-a0b4-4dd7-80d5-21abcd852cb6",
   "metadata": {},
   "outputs": [],
   "source": [
    "#dump(apgdl2_attack,'apgdl2_attack.joblib')"
   ]
  },
  {
   "cell_type": "code",
   "execution_count": 464,
   "id": "6733138d-6d14-4453-a33b-b83ddf81565e",
   "metadata": {},
   "outputs": [],
   "source": [
    "#Loading the samples \n",
    "apgdl2_attack=load('AttackSamples/apgdl2_attack.joblib')"
   ]
  },
  {
   "cell_type": "code",
   "execution_count": 465,
   "id": "70d0a0ea-eacf-4056-97d1-620b03b2474c",
   "metadata": {},
   "outputs": [
    {
     "name": "stdout",
     "output_type": "stream",
     "text": [
      "Accuracy on APGDL2 adversarial test examples: 98.4%\n",
      "\n",
      "The number of APGDL2 samples that successfully evaded the model are - 160\n"
     ]
    }
   ],
   "source": [
    "print(\"Accuracy on {} adversarial test examples: {}%\".format(apgdl2_attack.attack_name.upper(), apgdl2_attack.acc_adv * 100))\n",
    "print()\n",
    "print(f\"The number of {apgdl2_attack.attack_name.upper()} samples that successfully evaded the model are - {len(apgdl2_attack.false_indices)}\")"
   ]
  },
  {
   "cell_type": "markdown",
   "id": "eb659f33-2096-4371-a1d7-2c87bd1600d7",
   "metadata": {},
   "source": [
    "# CW ATTACK"
   ]
  },
  {
   "cell_type": "markdown",
   "id": "d5647ba8-2c35-4885-91a0-160dc4405b84",
   "metadata": {},
   "source": [
    "### CW L2 "
   ]
  },
  {
   "cell_type": "code",
   "execution_count": 466,
   "id": "0edac099-4703-4760-855a-d2fc1d00ee7c",
   "metadata": {},
   "outputs": [],
   "source": [
    "#cwl2_attack = AEGenerator('cwl2',x_test,y_test)"
   ]
  },
  {
   "cell_type": "code",
   "execution_count": 467,
   "id": "a3eacea5-3872-414e-b83a-55d4c1f2c8e9",
   "metadata": {},
   "outputs": [],
   "source": [
    "#dump(cwl2_attack,'cwl2_attack.joblib')"
   ]
  },
  {
   "cell_type": "code",
   "execution_count": 468,
   "id": "ec3a4905-0531-4181-bed3-891cbd40fa1e",
   "metadata": {},
   "outputs": [],
   "source": [
    "#Loading the samples \n",
    "cwl2_attack=load('AttackSamples/cwl2_attack.joblib')"
   ]
  },
  {
   "cell_type": "code",
   "execution_count": 469,
   "id": "3fc3d3d4-6b02-4433-aa86-8ec61901db4b",
   "metadata": {},
   "outputs": [
    {
     "name": "stdout",
     "output_type": "stream",
     "text": [
      "Accuracy on CWL2 adversarial test examples: 9.93%\n",
      "\n",
      "The number of CWL2 samples that successfully evaded the model are - 9007\n"
     ]
    }
   ],
   "source": [
    "print(\"Accuracy on {} adversarial test examples: {}%\".format(cwl2_attack.attack_name.upper(), cwl2_attack.acc_adv * 100))\n",
    "print()\n",
    "print(f\"The number of {cwl2_attack.attack_name.upper()} samples that successfully evaded the model are - {len(cwl2_attack.false_indices)}\")"
   ]
  },
  {
   "cell_type": "markdown",
   "id": "27095ede-6b39-4beb-852c-d383b22fc53b",
   "metadata": {},
   "source": [
    "### CW L INFINITY "
   ]
  },
  {
   "cell_type": "code",
   "execution_count": 470,
   "id": "51bcd1c4-3e46-403b-b669-0980876286b8",
   "metadata": {},
   "outputs": [],
   "source": [
    "#cwlinf_attack = AEGenerator('cwlinf',x_test,y_test)"
   ]
  },
  {
   "cell_type": "code",
   "execution_count": 471,
   "id": "bbcf7e89-ed6b-4d96-b46a-b5d877bacd72",
   "metadata": {},
   "outputs": [],
   "source": [
    "#dump(cwlinf_attack,'cwlinf_attack.joblib')"
   ]
  },
  {
   "cell_type": "code",
   "execution_count": 472,
   "id": "52f4752b-2c54-4724-b0cf-a526fb8a71cc",
   "metadata": {},
   "outputs": [],
   "source": [
    "#Loading the samples \n",
    "cwlinf_attack=load('AttackSamples/cwlinf_attack.joblib')"
   ]
  },
  {
   "cell_type": "code",
   "execution_count": 473,
   "id": "65bcac03-83c0-4bb0-a057-ad6c6324a7f8",
   "metadata": {},
   "outputs": [
    {
     "name": "stdout",
     "output_type": "stream",
     "text": [
      "Accuracy on CWLINF adversarial test examples: 84.68%\n",
      "\n",
      "The number of CWLINF samples that successfully evaded the model are - 1532\n"
     ]
    }
   ],
   "source": [
    "print(\"Accuracy on {} adversarial test examples: {}%\".format(cwlinf_attack.attack_name.upper(), cwlinf_attack.acc_adv * 100))\n",
    "print()\n",
    "print(f\"The number of {cwlinf_attack.attack_name.upper()} samples that successfully evaded the model are - {len(cwlinf_attack.false_indices)}\")"
   ]
  },
  {
   "cell_type": "code",
   "execution_count": null,
   "id": "b9dbbb84-86e8-4dfe-98c6-a770e504ee3a",
   "metadata": {},
   "outputs": [],
   "source": []
  },
  {
   "cell_type": "markdown",
   "id": "75cdddf1-b775-4a5b-bdca-0a41934f07df",
   "metadata": {},
   "source": [
    "# Data Pre-processing for MPD"
   ]
  },
  {
   "cell_type": "markdown",
   "id": "7378a7a0-3672-47e9-886c-2074fe079bb3",
   "metadata": {},
   "source": [
    "### Reshaping the Train and Test Set:"
   ]
  },
  {
   "cell_type": "code",
   "execution_count": 474,
   "id": "538f834a-4f42-4970-9f6e-7579462b32cd",
   "metadata": {},
   "outputs": [],
   "source": [
    "# Reshape the training and test data\n",
    "x_train_mpd = x_train.reshape(x_train.shape[0], -1)\n",
    "x_test_mpd = x_test.reshape(x_test.shape[0], -1)\n",
    "\n",
    "# Extract labels using argmax\n",
    "y_train_mpd = np.argmax(y_train, axis=1)\n",
    "y_test_mpd = np.argmax(y_test, axis=1)\n"
   ]
  },
  {
   "cell_type": "code",
   "execution_count": 475,
   "id": "e339643e-ef60-4d22-8116-0caa3646fb7c",
   "metadata": {},
   "outputs": [
    {
     "name": "stdout",
     "output_type": "stream",
     "text": [
      "Shape of x train - (60000, 784)\n",
      "Shape of y train - (60000,)\n",
      "Shape of x test - (10000, 784)\n",
      "Shape of y test - (10000,)\n"
     ]
    }
   ],
   "source": [
    "print(f\"Shape of x train - {x_train_mpd.shape}\")\n",
    "print(f\"Shape of y train - {y_train_mpd.shape}\")\n",
    "print(f\"Shape of x test - {x_test_mpd.shape}\")\n",
    "print(f\"Shape of y test - {y_test_mpd.shape}\")"
   ]
  },
  {
   "cell_type": "markdown",
   "id": "c2b870c6-beca-4600-8671-33f6e06d13ae",
   "metadata": {},
   "source": [
    "### Reshaping the Adversarial Samples:"
   ]
  },
  {
   "cell_type": "code",
   "execution_count": 476,
   "id": "b4a8042d-6bcd-4f9c-ba94-992712711950",
   "metadata": {},
   "outputs": [],
   "source": [
    "x_test_bim=bim_attack.x_test_adv.reshape(bim_attack.x_test_adv.shape[0],-1)\n",
    "x_test_pgdlinf=pgdlinf_attack.x_test_adv.reshape(pgdlinf_attack.x_test_adv.shape[0],-1)\n",
    "x_test_apgdlinf=apgdlinf_attack.x_test_adv.reshape(apgdlinf_attack.x_test_adv.shape[0],-1)\n",
    "x_test_cwl2=cwl2_attack.x_test_adv.reshape(apgdlinf_attack.x_test_adv.shape[0],-1)"
   ]
  },
  {
   "cell_type": "code",
   "execution_count": 477,
   "id": "b7f3676b-6e57-404e-924c-e0b1095c178d",
   "metadata": {},
   "outputs": [
    {
     "name": "stdout",
     "output_type": "stream",
     "text": [
      "Shape of BIM Samples - (10000, 784)\n",
      "Shape of PGD Samples - (10000, 784)\n",
      "Shape of AutoPGD Samples - (10000, 784)\n",
      "Shape of CW Samples - (10000, 784)\n"
     ]
    }
   ],
   "source": [
    "print(f\"Shape of BIM Samples - {x_test_bim.shape}\")\n",
    "print(f\"Shape of PGD Samples - {x_test_pgdlinf.shape}\")\n",
    "print(f\"Shape of AutoPGD Samples - {x_test_apgdlinf.shape}\")\n",
    "print(f\"Shape of CW Samples - {x_test_cwl2.shape}\")"
   ]
  },
  {
   "cell_type": "markdown",
   "id": "2140648f-b7a3-4205-abe0-8c67cd547829",
   "metadata": {},
   "source": [
    "# CLASS DISTRIBUTION"
   ]
  },
  {
   "cell_type": "code",
   "execution_count": 478,
   "id": "6e0571fa-9481-4c84-972c-6ee5618c2d74",
   "metadata": {},
   "outputs": [],
   "source": [
    "#Function for class distribution\n",
    "def class_dist(labels):\n",
    "    # get unique class labels and their counts\n",
    "    unique_classes, class_counts= np.unique(labels, return_counts=True)\n",
    "\n",
    "    # Print the class distribution\n",
    "    for label, count in zip(unique_classes, class_counts):\n",
    "        print(f\"Class {label}: {count} samples\")"
   ]
  },
  {
   "cell_type": "markdown",
   "id": "12b19d1a-3442-4319-b129-03aa7002d797",
   "metadata": {},
   "source": [
    "## TRAIN SET: "
   ]
  },
  {
   "cell_type": "code",
   "execution_count": 479,
   "id": "e6a1cd71-fe31-46a3-91dc-deb875260e2f",
   "metadata": {},
   "outputs": [
    {
     "name": "stdout",
     "output_type": "stream",
     "text": [
      "Class 0: 5923 samples\n",
      "Class 1: 6742 samples\n",
      "Class 2: 5958 samples\n",
      "Class 3: 6131 samples\n",
      "Class 4: 5842 samples\n",
      "Class 5: 5421 samples\n",
      "Class 6: 5918 samples\n",
      "Class 7: 6265 samples\n",
      "Class 8: 5851 samples\n",
      "Class 9: 5949 samples\n"
     ]
    }
   ],
   "source": [
    "class_dist(y_train_mpd)"
   ]
  },
  {
   "cell_type": "markdown",
   "id": "209e4ec6-1204-4c83-8539-94f6fbcf942e",
   "metadata": {},
   "source": [
    "## TEST SET:"
   ]
  },
  {
   "cell_type": "code",
   "execution_count": 480,
   "id": "7c7a6b1b-5e9d-4850-801e-9a8807b7da9a",
   "metadata": {},
   "outputs": [
    {
     "name": "stdout",
     "output_type": "stream",
     "text": [
      "Class 0: 980 samples\n",
      "Class 1: 1135 samples\n",
      "Class 2: 1032 samples\n",
      "Class 3: 1010 samples\n",
      "Class 4: 982 samples\n",
      "Class 5: 892 samples\n",
      "Class 6: 958 samples\n",
      "Class 7: 1028 samples\n",
      "Class 8: 974 samples\n",
      "Class 9: 1009 samples\n"
     ]
    }
   ],
   "source": [
    "class_dist(y_test_mpd)"
   ]
  },
  {
   "cell_type": "markdown",
   "id": "3801de15-5dff-415f-bfc4-d9dd3159010f",
   "metadata": {},
   "source": [
    "# MPD"
   ]
  },
  {
   "cell_type": "code",
   "execution_count": 481,
   "id": "ef5f8c8b-1533-4750-80cf-117c01be50cf",
   "metadata": {},
   "outputs": [],
   "source": [
    "#Initialize the base clf\n",
    "#base_clf=DecisionTreeClassifier()\n",
    "#bootstrap_count=100\n",
    "#mpd_detector= UncertaintyTrainer(x_train_mpd,y_train_mpd,base_clf,bootstrap_count)"
   ]
  },
  {
   "cell_type": "code",
   "execution_count": 482,
   "id": "7bd4dc0a-d813-4c06-bd0f-48e80523b470",
   "metadata": {},
   "outputs": [],
   "source": [
    "#dump(mpd_detector,'mpd_trained.joblib')"
   ]
  },
  {
   "cell_type": "code",
   "execution_count": 483,
   "id": "ae81a3dd-2d13-4c46-802b-81a0d3caf572",
   "metadata": {},
   "outputs": [],
   "source": [
    "#Loading the MPD Detector \n",
    "mpd_detector=load('mpd_trained.joblib')"
   ]
  },
  {
   "cell_type": "markdown",
   "id": "0538a4d4-ca85-4435-9f03-58bf4f12b618",
   "metadata": {},
   "source": [
    "### MPD SCORES FOR CLEAN DATA:"
   ]
  },
  {
   "cell_type": "code",
   "execution_count": 484,
   "id": "1e08e55e-9685-4b27-83d3-290c606a125d",
   "metadata": {},
   "outputs": [],
   "source": [
    "mpd_scores_normal=mpd_detector.get_mpd_score(x_test_mpd)"
   ]
  },
  {
   "cell_type": "markdown",
   "id": "1a607b21-c030-437f-a4e3-f5c0eb2bee5a",
   "metadata": {},
   "source": [
    "### MPD SCORES FOR AEs"
   ]
  },
  {
   "cell_type": "code",
   "execution_count": 485,
   "id": "635c0719-d5c1-465c-8c70-31e34fe4a799",
   "metadata": {},
   "outputs": [],
   "source": [
    "mpd_scores_bim=mpd_detector.get_mpd_score(x_test_bim)"
   ]
  },
  {
   "cell_type": "code",
   "execution_count": 486,
   "id": "e7e9d543-305d-44cc-8381-b4ae216a099a",
   "metadata": {},
   "outputs": [],
   "source": [
    "mpd_scores_pgd=mpd_detector.get_mpd_score(x_test_pgdlinf)"
   ]
  },
  {
   "cell_type": "code",
   "execution_count": 487,
   "id": "98c903c6-ce09-49db-b81f-c752a18447e0",
   "metadata": {},
   "outputs": [],
   "source": [
    "mpd_scores_apgd=mpd_detector.get_mpd_score(x_test_apgdlinf)"
   ]
  },
  {
   "cell_type": "code",
   "execution_count": 488,
   "id": "f79b46ca-f033-4bd0-a2a3-a3e00d047dd5",
   "metadata": {},
   "outputs": [],
   "source": [
    "mpd_scores_cw=mpd_detector.get_mpd_score(x_test_cwl2)"
   ]
  },
  {
   "cell_type": "code",
   "execution_count": null,
   "id": "94358642-4a10-459c-86ff-60ab58fe2552",
   "metadata": {},
   "outputs": [],
   "source": []
  },
  {
   "cell_type": "code",
   "execution_count": 489,
   "id": "4046fb50-b889-4775-9a88-54c2344074bd",
   "metadata": {},
   "outputs": [],
   "source": [
    "atks = {\n",
    "    'clean':mpd_scores_normal,\n",
    "    'bim': mpd_scores_bim,\n",
    "    'pgd': mpd_scores_pgd,\n",
    "    'autopgd': mpd_scores_apgd,\n",
    "    'cw': mpd_scores_cw\n",
    "}"
   ]
  },
  {
   "cell_type": "markdown",
   "id": "2d8c52e2-6d36-4a1b-8fc9-8f6b7ffe795f",
   "metadata": {},
   "source": [
    "### Max Scores for all attacks:"
   ]
  },
  {
   "cell_type": "code",
   "execution_count": 490,
   "id": "55edfa93-36d7-45e4-b3c3-6c5e3e262ae8",
   "metadata": {},
   "outputs": [],
   "source": [
    "max_mpd_scores = {}\n",
    "\n",
    "def mpd_maxscores(atk_name, mpd_scores):\n",
    "    max_value = round(mpd_scores.max(), 2)\n",
    "    max_mpd_scores[atk_name] = max_value\n",
    "    print(f\"The max mpd score for {atk_name.upper()} = {max_value}\")"
   ]
  },
  {
   "cell_type": "code",
   "execution_count": 491,
   "id": "0bc87523-a38c-4688-bd76-bb6fc49c24ec",
   "metadata": {},
   "outputs": [
    {
     "name": "stdout",
     "output_type": "stream",
     "text": [
      "The max mpd score for CLEAN = 0.91\n",
      "The max mpd score for BIM = 0.93\n",
      "The max mpd score for PGD = 0.93\n",
      "The max mpd score for AUTOPGD = 0.93\n",
      "The max mpd score for CW = 0.92\n"
     ]
    }
   ],
   "source": [
    "for names in atks.keys():\n",
    "    mpd_maxscores(names,atks[names])"
   ]
  },
  {
   "cell_type": "markdown",
   "id": "de616f71-9d71-4c78-9d28-2976b42667af",
   "metadata": {},
   "source": [
    "# Generating Graphs for MPD Scores Before & After Attack:"
   ]
  },
  {
   "cell_type": "markdown",
   "id": "7e8b0f6d-4a8b-4c90-bae6-52194996bdf3",
   "metadata": {},
   "source": [
    "#### Graph Generation:\n",
    " \n",
    "For clean samples pass - (*clean* , scores)\n",
    "\n",
    "For perturbed samples pass - (attack name , scores)\n",
    "\n",
    "Attack Names : \n",
    "* bim\n",
    "* pgd\n",
    "* autopgd\n",
    "* cw\n"
   ]
  },
  {
   "cell_type": "code",
   "execution_count": 492,
   "id": "6881633e-291e-49ca-9599-58c8d5832cb1",
   "metadata": {},
   "outputs": [],
   "source": [
    "def mpd_score_graph(atk_name,mpd_scores):\n",
    "    if atk_name=='clean':\n",
    "        sns.displot(mpd_scores, kde = True, aspect = 2)\n",
    "        plt.title(\"MPD scores before attack\")\n",
    "        plt.ylim(0,4000)\n",
    "    else:\n",
    "        sns.displot(mpd_scores, kde = True, aspect = 2)\n",
    "        plt.title(f\"MPD scores after {atk_name.upper()} attack\")\n",
    "        plt.ylim(0,4000)"
   ]
  },
  {
   "cell_type": "code",
   "execution_count": 493,
   "id": "ef1b915b-8197-428b-85f2-b2df5636e196",
   "metadata": {},
   "outputs": [
    {
     "data": {
      "image/png": "[encoded data removed]",
      "text/plain": [
       "<Figure size 1000x500 with 1 Axes>"
      ]
     },
     "metadata": {},
     "output_type": "display_data"
    },
    {
     "data": {
      "image/png": "[encoded data removed]",
      "text/plain": [
       "<Figure size 1000x500 with 1 Axes>"
      ]
     },
     "metadata": {},
     "output_type": "display_data"
    },
    {
     "data": {
      "image/png": "[encoded data removed]",
      "text/plain": [
       "<Figure size 1000x500 with 1 Axes>"
      ]
     },
     "metadata": {},
     "output_type": "display_data"
    },
    {
     "data": {
      "image/png": "[encoded data removed]",
      "text/plain": [
       "<Figure size 1000x500 with 1 Axes>"
      ]
     },
     "metadata": {},
     "output_type": "display_data"
    },
    {
     "data": {
      "image/png": "[encoded data removed]",
      "text/plain": [
       "<Figure size 1000x500 with 1 Axes>"
      ]
     },
     "metadata": {},
     "output_type": "display_data"
    }
   ],
   "source": [
    "for names in atks.keys():\n",
    "    mpd_score_graph(names,atks[names])"
   ]
  },
  {
   "cell_type": "code",
   "execution_count": null,
   "id": "5b950c73-ee6d-4366-aeb1-9155360b22fa",
   "metadata": {},
   "outputs": [],
   "source": []
  },
  {
   "cell_type": "markdown",
   "id": "f760b87e-beda-4544-82b9-681b60d05241",
   "metadata": {},
   "source": [
    "# ATTACK SAMPLES THAT WORK FOR ALL ATTACKS "
   ]
  },
  {
   "cell_type": "code",
   "execution_count": 494,
   "id": "90cd64d2-7609-43d5-9515-3737baeae15b",
   "metadata": {},
   "outputs": [
    {
     "name": "stdout",
     "output_type": "stream",
     "text": [
      "Common Samples found : 8987\n"
     ]
    }
   ],
   "source": [
    "# Find common elements across all lists\n",
    "common_indices = list(set(bim_attack.false_indices) & set(pgdlinf_attack.false_indices) & set(apgdlinf_attack.false_indices) & set(cwl2_attack.false_indices))\n",
    "#print(\"Common Indices:\", common_indices)\n",
    "print(\"Common Samples found :\", len(common_indices))"
   ]
  },
  {
   "cell_type": "markdown",
   "id": "71fb44c8-68d7-4e45-bbbc-11f6a8802b49",
   "metadata": {},
   "source": [
    "### Creating AE Sets of common samples:"
   ]
  },
  {
   "cell_type": "code",
   "execution_count": 495,
   "id": "771acd01-f290-46dc-86e0-1021efad61bc",
   "metadata": {
    "tags": []
   },
   "outputs": [],
   "source": [
    "common_samples_bim=x_test_bim[common_indices]"
   ]
  },
  {
   "cell_type": "code",
   "execution_count": 496,
   "id": "4596daa0-629e-4179-a5e2-0e057e1675e3",
   "metadata": {
    "tags": []
   },
   "outputs": [],
   "source": [
    "common_samples_pgd=x_test_pgdlinf[common_indices]"
   ]
  },
  {
   "cell_type": "code",
   "execution_count": 497,
   "id": "26855dd2-6a92-4a85-8d90-193e620675fb",
   "metadata": {},
   "outputs": [],
   "source": [
    "common_samples_apgd=x_test_apgdlinf[common_indices]"
   ]
  },
  {
   "cell_type": "code",
   "execution_count": 498,
   "id": "f470dace-c92f-478f-a6ab-81d0519f29de",
   "metadata": {},
   "outputs": [],
   "source": [
    "common_samples_cw=x_test_cwl2[common_indices]"
   ]
  },
  {
   "cell_type": "markdown",
   "id": "b5f84ea8-0a43-4d2f-b8c7-cf883cfbf6a1",
   "metadata": {},
   "source": [
    "### Class Distribution of the Common Attack Set:"
   ]
  },
  {
   "cell_type": "code",
   "execution_count": 499,
   "id": "3ca531d9-7153-4b19-a271-9f344d528d50",
   "metadata": {},
   "outputs": [],
   "source": [
    "y_common_samples=y_test_mpd[common_indices]"
   ]
  },
  {
   "cell_type": "code",
   "execution_count": 500,
   "id": "62215e42-b907-4dd2-870e-115697b56561",
   "metadata": {},
   "outputs": [
    {
     "name": "stdout",
     "output_type": "stream",
     "text": [
      "Class 0: 812 samples\n",
      "Class 1: 1040 samples\n",
      "Class 2: 850 samples\n",
      "Class 3: 842 samples\n",
      "Class 4: 933 samples\n",
      "Class 5: 828 samples\n",
      "Class 6: 872 samples\n",
      "Class 7: 922 samples\n",
      "Class 8: 922 samples\n",
      "Class 9: 966 samples\n"
     ]
    }
   ],
   "source": [
    "class_dist(y_common_samples)"
   ]
  },
  {
   "cell_type": "code",
   "execution_count": null,
   "id": "96114d40-3651-4e68-857d-4e9192df9e88",
   "metadata": {},
   "outputs": [],
   "source": []
  },
  {
   "cell_type": "markdown",
   "id": "2cc314d5-27d2-4073-9b8e-f975b4f15835",
   "metadata": {},
   "source": [
    "# Creating a Testbed:"
   ]
  },
  {
   "cell_type": "markdown",
   "id": "ce06b705-2132-4d75-aa39-7859a8677a0e",
   "metadata": {},
   "source": [
    "#### For getting the threshold value we create a TestBed of 75% clean samples and 25% Adversarial Samples."
   ]
  },
  {
   "cell_type": "markdown",
   "id": "131d91dd-d326-447a-b361-369e8795c452",
   "metadata": {},
   "source": [
    "### 75% Clean Data:"
   ]
  },
  {
   "cell_type": "code",
   "execution_count": 501,
   "id": "c35816b1-d1dc-44d6-a1fc-d7247fd5131f",
   "metadata": {},
   "outputs": [
    {
     "name": "stdout",
     "output_type": "stream",
     "text": [
      "Shape of x_test_stratified: (7500, 784)\n",
      "Shape of y_test_stratified: (7500,)\n"
     ]
    }
   ],
   "source": [
    "x_test_stratified_clean, _, y_test_stratified_clean, _ = train_test_split(x_test_mpd, y_test_mpd, test_size=0.25, stratify=y_test_mpd, random_state=333)\n",
    "\n",
    "# Now, x_test_stratified and y_test_stratified contain 75% of the stratified test data\n",
    "print(\"Shape of x_test_stratified:\", x_test_stratified_clean.shape)\n",
    "print(\"Shape of y_test_stratified:\", y_test_stratified_clean.shape)"
   ]
  },
  {
   "cell_type": "markdown",
   "id": "cfc793e3-0aaf-4a6f-bd08-e535da14f581",
   "metadata": {},
   "source": [
    "### Class Distribution of the Clean Data:"
   ]
  },
  {
   "cell_type": "code",
   "execution_count": 502,
   "id": "1573384d-572c-4613-a437-e997a072d4f3",
   "metadata": {},
   "outputs": [
    {
     "name": "stdout",
     "output_type": "stream",
     "text": [
      "Class 0: 735 samples\n",
      "Class 1: 851 samples\n",
      "Class 2: 774 samples\n",
      "Class 3: 757 samples\n",
      "Class 4: 737 samples\n",
      "Class 5: 669 samples\n",
      "Class 6: 719 samples\n",
      "Class 7: 771 samples\n",
      "Class 8: 730 samples\n",
      "Class 9: 757 samples\n"
     ]
    }
   ],
   "source": [
    "class_dist(y_test_stratified_clean)"
   ]
  },
  {
   "cell_type": "markdown",
   "id": "06e91bef-d9c7-4d4e-aee3-3970fd0b00ab",
   "metadata": {},
   "source": [
    "# MPD THRESHOLD CALCULATON"
   ]
  },
  {
   "cell_type": "code",
   "execution_count": 503,
   "id": "10827855-9bae-4a83-b7fa-b2d333239001",
   "metadata": {},
   "outputs": [],
   "source": [
    "class MPD_Threshold_Calculator:\n",
    "    def __init__(self, attack_name, x_common_samples_adv, y_common_samples):\n",
    "        \n",
    "        self.attack_name = attack_name\n",
    "        self.x_common_samples_adv = x_common_samples_adv\n",
    "        self.y_common_samples = y_common_samples\n",
    "\n",
    "        # Use train_test_split with stratify to create new variables with 25% stratified data\n",
    "        self.x_test_stratified_adv, _, self.y_test_stratified_adv, _ = train_test_split(self.x_common_samples_adv, self.y_common_samples, test_size=0.72, stratify=self.y_common_samples, random_state=333)\n",
    "\n",
    "        self.x_test_stratified_adv=self.x_test_stratified_adv[:2500]\n",
    "        self.y_test_stratified_adv=self.y_test_stratified_adv[:2500]\n",
    "        \n",
    "        # Now, x_test_stratified_adv and y_test_stratified_adv contain 25% of the stratified data from x_common_samples and y_common_samples\n",
    "        print()\n",
    "        print()\n",
    "        print(\"Shape of x_test_stratified_bim:\", self.x_test_stratified_adv.shape)\n",
    "        print(\"Shape of y_test_stratified_bim:\", self.y_test_stratified_adv.shape)\n",
    "        print()\n",
    "        print()\n",
    "        print(f\"Class Distribution for {self.attack_name.upper()} :\")\n",
    "        class_dist(self.y_test_stratified_adv)\n",
    "        print()\n",
    "        print()\n",
    "        # Vertically stack the arrays to create a single set\n",
    "        self.x_adv_testbed = np.vstack([x_test_stratified_clean, self.x_test_stratified_adv])\n",
    "        #convert the labels as a binary problem i.e - AE or not AE\n",
    "        self.y_adv_testbed = np.concatenate([np.zeros_like(y_test_stratified_clean), np.ones_like(self.y_test_stratified_adv)])\n",
    "\n",
    "        # Now, x_testbed and y_testbed contain the combined set\n",
    "        print(f\"Shape of x_adv_testbed for {self.attack_name.upper()}:\", self.x_adv_testbed.shape)\n",
    "        print(\"Shape of y_adv_testbed:\", self.y_adv_testbed.shape)\n",
    "        print()\n",
    "        print()\n",
    "        print(f\"Class Distribution for {self.attack_name} :\")\n",
    "        class_dist(self.y_adv_testbed)\n",
    "        \n",
    "        self.thvalues= np.linspace(0.01, max_mpd_scores[self.attack_name],int(max_mpd_scores[self.attack_name]*100))\n",
    "        \n",
    "        #mpd scores on the Adversarial Testbed\n",
    "        self.mpd_scores_adv_testbed = mpd_detector.get_mpd_score(self.x_adv_testbed)\n",
    "        \n",
    "        self.score_list=pd.DataFrame(columns=[\"Threshold_value\",\"TP\",\"FN\",\"FP\",\"TN\", \"recall\", 'f1_score', 'accuracy'])\n",
    "\n",
    "        for idx, t in enumerate(self.thvalues) :\n",
    "            mpd_preds = (self.mpd_scores_adv_testbed>t).astype(int)\n",
    "\n",
    "            cmvalues= (confusion_matrix(self.y_adv_testbed, mpd_preds).ravel()).tolist()\n",
    "            values=[t.tolist(),]\n",
    "            values.extend(cmvalues)\n",
    "            values.append(recall_score(self.y_adv_testbed,mpd_preds))  \n",
    "            values.append(f1_score(self.y_adv_testbed,mpd_preds))\n",
    "            values.append(accuracy_score(self.y_adv_testbed,mpd_preds))\n",
    "\n",
    "            self.score_list.loc[idx] = values\n",
    "            \n",
    "        print()\n",
    "        print()\n",
    "        #print(self.score_list)\n",
    "        self.tvalue = self.score_list[self.score_list.f1_score==self.score_list.f1_score.max()]\n",
    "        print()\n",
    "        print()\n",
    "        print(self.tvalue)\n",
    "            \n",
    "            #taking the best threshold value \n",
    "        self.best_t = self.tvalue.Threshold_value.values[0]\n",
    "        self.mpd_pred = self.mpd_scores_adv_testbed.copy()\n",
    "        self.mpd_pred[self.mpd_pred > self.best_t ] = 1\n",
    "        self.mpd_pred[self.mpd_pred <= self.best_t] = 0\n",
    "            \n",
    "        print()\n",
    "        print()\n",
    "        print()\n",
    "        print()\n",
    "        self.c = ConfusionMatrixDisplay(confusion_matrix(self.y_adv_testbed,self.mpd_pred), display_labels=['Non-Adversarial','Adversarial'])\n",
    "        fig, ax = plt.subplots(figsize=(10,6))\n",
    "        plt.grid(False)\n",
    "        self.c.plot(ax = ax, cmap='OrRd', xticks_rotation = 0,values_format='d')"
   ]
  },
  {
   "cell_type": "markdown",
   "id": "a6680a8c-b69e-49e4-9539-049cf84d9ae3",
   "metadata": {},
   "source": [
    "# BIM ATTACK DETECTION:"
   ]
  },
  {
   "cell_type": "code",
   "execution_count": 504,
   "id": "d6e8a973-c55c-440e-b293-b44ddaa55331",
   "metadata": {},
   "outputs": [
    {
     "name": "stdout",
     "output_type": "stream",
     "text": [
      "\n",
      "\n",
      "Shape of x_test_stratified_bim: (2500, 784)\n",
      "Shape of y_test_stratified_bim: (2500,)\n",
      "\n",
      "\n",
      "Class Distribution for BIM :\n",
      "Class 0: 226 samples\n",
      "Class 1: 289 samples\n",
      "Class 2: 237 samples\n",
      "Class 3: 234 samples\n",
      "Class 4: 260 samples\n",
      "Class 5: 230 samples\n",
      "Class 6: 242 samples\n",
      "Class 7: 256 samples\n",
      "Class 8: 257 samples\n",
      "Class 9: 269 samples\n",
      "\n",
      "\n",
      "Shape of x_adv_testbed for BIM: (10000, 784)\n",
      "Shape of y_adv_testbed: (10000,)\n",
      "\n",
      "\n",
      "Class Distribution for bim :\n",
      "Class 0: 7500 samples\n",
      "Class 1: 2500 samples\n",
      "\n",
      "\n",
      "\n",
      "\n",
      "    Threshold_value      TP     FN     FP      TN  recall  f1_score  accuracy\n",
      "71             0.72  6993.0  507.0  167.0  2333.0  0.9332  0.873783    0.9326\n",
      "\n",
      "\n",
      "\n",
      "\n"
     ]
    },
    {
     "data": {
      "image/png": "[encoded data removed]",
      "text/plain": [
       "<Figure size 1000x600 with 2 Axes>"
      ]
     },
     "metadata": {},
     "output_type": "display_data"
    }
   ],
   "source": [
    "bim_t=MPD_Threshold_Calculator('bim',common_samples_bim,y_common_samples)"
   ]
  },
  {
   "cell_type": "markdown",
   "id": "05a521ce-3de7-4354-a1d2-2c011e477dbe",
   "metadata": {},
   "source": [
    "# PGD ATTACK DETECTION:"
   ]
  },
  {
   "cell_type": "code",
   "execution_count": 505,
   "id": "c4a0b39b-13d7-4f5c-ba09-43f120e2b0b5",
   "metadata": {},
   "outputs": [
    {
     "name": "stdout",
     "output_type": "stream",
     "text": [
      "\n",
      "\n",
      "Shape of x_test_stratified_bim: (2500, 784)\n",
      "Shape of y_test_stratified_bim: (2500,)\n",
      "\n",
      "\n",
      "Class Distribution for PGD :\n",
      "Class 0: 226 samples\n",
      "Class 1: 289 samples\n",
      "Class 2: 237 samples\n",
      "Class 3: 234 samples\n",
      "Class 4: 260 samples\n",
      "Class 5: 230 samples\n",
      "Class 6: 242 samples\n",
      "Class 7: 256 samples\n",
      "Class 8: 257 samples\n",
      "Class 9: 269 samples\n",
      "\n",
      "\n",
      "Shape of x_adv_testbed for PGD: (10000, 784)\n",
      "Shape of y_adv_testbed: (10000,)\n",
      "\n",
      "\n",
      "Class Distribution for pgd :\n",
      "Class 0: 7500 samples\n",
      "Class 1: 2500 samples\n",
      "\n",
      "\n",
      "\n",
      "\n",
      "    Threshold_value      TP     FN     FP      TN  recall  f1_score  accuracy\n",
      "71             0.72  6993.0  507.0  167.0  2333.0  0.9332  0.873783    0.9326\n",
      "\n",
      "\n",
      "\n",
      "\n"
     ]
    },
    {
     "data": {
      "image/png": "[encoded data removed]",
      "text/plain": [
       "<Figure size 1000x600 with 2 Axes>"
      ]
     },
     "metadata": {},
     "output_type": "display_data"
    }
   ],
   "source": [
    "pgd_t=MPD_Threshold_Calculator('pgd',common_samples_pgd,y_common_samples)"
   ]
  },
  {
   "cell_type": "markdown",
   "id": "0fb13a66-19c5-4bc8-8706-9d6998e15d92",
   "metadata": {},
   "source": [
    "# AUTOPGD ATTACK DETECTION:"
   ]
  },
  {
   "cell_type": "code",
   "execution_count": 506,
   "id": "24d2b7bb-97fe-411d-a685-d9f254c634d8",
   "metadata": {},
   "outputs": [
    {
     "name": "stdout",
     "output_type": "stream",
     "text": [
      "\n",
      "\n",
      "Shape of x_test_stratified_bim: (2500, 784)\n",
      "Shape of y_test_stratified_bim: (2500,)\n",
      "\n",
      "\n",
      "Class Distribution for AUTOPGD :\n",
      "Class 0: 226 samples\n",
      "Class 1: 289 samples\n",
      "Class 2: 237 samples\n",
      "Class 3: 234 samples\n",
      "Class 4: 260 samples\n",
      "Class 5: 230 samples\n",
      "Class 6: 242 samples\n",
      "Class 7: 256 samples\n",
      "Class 8: 257 samples\n",
      "Class 9: 269 samples\n",
      "\n",
      "\n",
      "Shape of x_adv_testbed for AUTOPGD: (10000, 784)\n",
      "Shape of y_adv_testbed: (10000,)\n",
      "\n",
      "\n",
      "Class Distribution for autopgd :\n",
      "Class 0: 7500 samples\n",
      "Class 1: 2500 samples\n",
      "\n",
      "\n",
      "\n",
      "\n",
      "    Threshold_value      TP     FN     FP      TN  recall  f1_score  accuracy\n",
      "73             0.74  7070.0  430.0  246.0  2254.0  0.9016  0.869599    0.9324\n",
      "\n",
      "\n",
      "\n",
      "\n"
     ]
    },
    {
     "data": {
      "image/png": "[encoded data removed]",
      "text/plain": [
       "<Figure size 1000x600 with 2 Axes>"
      ]
     },
     "metadata": {},
     "output_type": "display_data"
    }
   ],
   "source": [
    "apgd_t=MPD_Threshold_Calculator('autopgd',common_samples_apgd,y_common_samples)"
   ]
  },
  {
   "cell_type": "markdown",
   "id": "66f2ba07-415f-4b69-a3a3-32c6ef6c17a2",
   "metadata": {},
   "source": [
    "# CW ATTACK DETECTION:"
   ]
  },
  {
   "cell_type": "code",
   "execution_count": 507,
   "id": "102de489-7e4a-4315-aa01-c8a4f1f5f27b",
   "metadata": {},
   "outputs": [
    {
     "name": "stdout",
     "output_type": "stream",
     "text": [
      "\n",
      "\n",
      "Shape of x_test_stratified_bim: (2500, 784)\n",
      "Shape of y_test_stratified_bim: (2500,)\n",
      "\n",
      "\n",
      "Class Distribution for CW :\n",
      "Class 0: 226 samples\n",
      "Class 1: 289 samples\n",
      "Class 2: 237 samples\n",
      "Class 3: 234 samples\n",
      "Class 4: 260 samples\n",
      "Class 5: 230 samples\n",
      "Class 6: 242 samples\n",
      "Class 7: 256 samples\n",
      "Class 8: 257 samples\n",
      "Class 9: 269 samples\n",
      "\n",
      "\n",
      "Shape of x_adv_testbed for CW: (10000, 784)\n",
      "Shape of y_adv_testbed: (10000,)\n",
      "\n",
      "\n",
      "Class Distribution for cw :\n",
      "Class 0: 7500 samples\n",
      "Class 1: 2500 samples\n",
      "\n",
      "\n",
      "\n",
      "\n",
      "   Threshold_value      TP      FN     FP      TN  recall  f1_score  accuracy\n",
      "0             0.01  2760.0  4740.0  498.0  2002.0  0.8008   0.43324    0.4762\n",
      "1             0.02  2760.0  4740.0  498.0  2002.0  0.8008   0.43324    0.4762\n",
      "2             0.03  2760.0  4740.0  498.0  2002.0  0.8008   0.43324    0.4762\n",
      "3             0.04  2760.0  4740.0  498.0  2002.0  0.8008   0.43324    0.4762\n",
      "4             0.05  2760.0  4740.0  498.0  2002.0  0.8008   0.43324    0.4762\n",
      "5             0.06  2760.0  4740.0  498.0  2002.0  0.8008   0.43324    0.4762\n",
      "6             0.07  2760.0  4740.0  498.0  2002.0  0.8008   0.43324    0.4762\n",
      "7             0.08  2760.0  4740.0  498.0  2002.0  0.8008   0.43324    0.4762\n",
      "8             0.09  2760.0  4740.0  498.0  2002.0  0.8008   0.43324    0.4762\n",
      "9             0.10  2760.0  4740.0  498.0  2002.0  0.8008   0.43324    0.4762\n",
      "\n",
      "\n",
      "\n",
      "\n"
     ]
    },
    {
     "data": {
      "image/png": "[encoded data removed]",
      "text/plain": [
       "<Figure size 1000x600 with 2 Axes>"
      ]
     },
     "metadata": {},
     "output_type": "display_data"
    }
   ],
   "source": [
    "cw_t=MPD_Threshold_Calculator('cw',common_samples_cw,y_common_samples)"
   ]
  },
  {
   "cell_type": "code",
   "execution_count": null,
   "id": "0feca475-e43f-4e6d-a03b-6392a07fbb3a",
   "metadata": {},
   "outputs": [],
   "source": []
  }
 ],
 "metadata": {
  "kernelspec": {
   "display_name": "Python 3 (ipykernel)",
   "language": "python",
   "name": "python3"
  },
  "language_info": {
   "codemirror_mode": {
    "name": "ipython",
    "version": 3
   },
   "file_extension": ".py",
   "mimetype": "text/x-python",
   "name": "python",
   "nbconvert_exporter": "python",
   "pygments_lexer": "ipython3",
   "version": "3.9.13"
  }
 },
 "nbformat": 4,
 "nbformat_minor": 5
}
